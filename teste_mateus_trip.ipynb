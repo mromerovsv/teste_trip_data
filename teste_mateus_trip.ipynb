{
  "nbformat": 4,
  "nbformat_minor": 0,
  "metadata": {
    "colab": {
      "name": "teste_mateus_trip.ipynb",
      "provenance": [],
      "collapsed_sections": [],
      "authorship_tag": "ABX9TyMTSenCENGFQwYVHykF8Qq0",
      "include_colab_link": true
    },
    "kernelspec": {
      "name": "python3",
      "display_name": "Python 3"
    }
  },
  "cells": [
    {
      "cell_type": "markdown",
      "metadata": {
        "id": "view-in-github",
        "colab_type": "text"
      },
      "source": [
        "<a href=\"https://colab.research.google.com/github/mromerovsv/teste_trip_data/blob/master/teste_mateus_trip.ipynb\" target=\"_parent\"><img src=\"https://colab.research.google.com/assets/colab-badge.svg\" alt=\"Open In Colab\"/></a>"
      ]
    },
    {
      "cell_type": "markdown",
      "metadata": {
        "id": "_9jq2z3WhZFV",
        "colab_type": "text"
      },
      "source": [
        "Importar bibliotecas\n"
      ]
    },
    {
      "cell_type": "code",
      "metadata": {
        "id": "3ndV22lhhfX8",
        "colab_type": "code",
        "colab": {}
      },
      "source": [
        "import numpy as np\n",
        "import pandas as pd\n",
        "import matplotlib.pyplot as plt\n",
        "import glob\n",
        "\n",
        "from google.colab import files\n",
        "from datetime import date\n",
        "import datetime\n",
        "\n"
      ],
      "execution_count": 92,
      "outputs": []
    },
    {
      "cell_type": "markdown",
      "metadata": {
        "id": "uI7gT5uRhXVD",
        "colab_type": "text"
      },
      "source": [
        "Importar CSV de teste"
      ]
    },
    {
      "cell_type": "code",
      "metadata": {
        "id": "XvgUj4vShVnG",
        "colab_type": "code",
        "colab": {}
      },
      "source": [
        "#uploaded = files.upload()"
      ],
      "execution_count": 10,
      "outputs": []
    },
    {
      "cell_type": "markdown",
      "metadata": {
        "id": "fP2ZDUOxhyDw",
        "colab_type": "text"
      },
      "source": [
        "Criar dataframes de corte"
      ]
    },
    {
      "cell_type": "code",
      "metadata": {
        "id": "NhKhopyzh30C",
        "colab_type": "code",
        "colab": {
          "base_uri": "https://localhost:8080/",
          "height": 493
        },
        "outputId": "c969c41a-22db-4d2d-fef9-99010c66571c"
      },
      "source": [
        "trip = pd.read_csv('2018_Yellow_Taxi_Trip_Data.csv', sep=',')\n",
        "\n",
        "print(trip)\n",
        "\n",
        "trip_passengers_m2 = trip[trip['passenger_count'] <= 2]\n",
        "\n",
        "print(trip_passengers_m2)"
      ],
      "execution_count": 12,
      "outputs": [
        {
          "output_type": "stream",
          "text": [
            "         VendorID    tpep_pickup_datetime  ... improvement_surcharge  total_amount\n",
            "0               2  06/13/2018 10:21:21 AM  ...                   0.3         15.30\n",
            "1               2  06/13/2018 10:42:40 AM  ...                   0.3          5.80\n",
            "2               2  06/13/2018 10:54:04 AM  ...                   0.3         10.80\n",
            "3               2  06/13/2018 10:02:47 AM  ...                   0.3         20.38\n",
            "4               2  06/13/2018 10:29:11 AM  ...                   0.3         11.80\n",
            "...           ...                     ...  ...                   ...           ...\n",
            "1515289         2  06/18/2018 04:05:44 PM  ...                   0.3         12.96\n",
            "1515290         2  06/18/2018 04:18:03 PM  ...                   0.3          9.96\n",
            "1515291         2  06/18/2018 04:17:33 PM  ...                   0.3         11.16\n",
            "1515292         2  06/18/2018 04:30:30 PM  ...                   0.3          5.30\n",
            "1515293         2  06/18/2018 04:37:22 PM  ...                   0.3          7.80\n",
            "\n",
            "[1515294 rows x 17 columns]\n",
            "         VendorID    tpep_pickup_datetime  ... improvement_surcharge  total_amount\n",
            "0               2  06/13/2018 10:21:21 AM  ...                   0.3         15.30\n",
            "1               2  06/13/2018 10:42:40 AM  ...                   0.3          5.80\n",
            "2               2  06/13/2018 10:54:04 AM  ...                   0.3         10.80\n",
            "3               2  06/13/2018 10:02:47 AM  ...                   0.3         20.38\n",
            "4               2  06/13/2018 10:29:11 AM  ...                   0.3         11.80\n",
            "...           ...                     ...  ...                   ...           ...\n",
            "1515286         2  06/18/2018 04:40:56 PM  ...                   0.3         46.27\n",
            "1515287         2  06/18/2018 03:58:59 PM  ...                   0.3         75.67\n",
            "1515288         1  06/18/2018 04:33:27 PM  ...                   0.3         63.06\n",
            "1515289         2  06/18/2018 04:05:44 PM  ...                   0.3         12.96\n",
            "1515290         2  06/18/2018 04:18:03 PM  ...                   0.3          9.96\n",
            "\n",
            "[1312369 rows x 17 columns]\n"
          ],
          "name": "stdout"
        }
      ]
    },
    {
      "cell_type": "markdown",
      "metadata": {
        "id": "dovBVMrfD1rq",
        "colab_type": "text"
      },
      "source": [
        "Média do dataframe de passageiros com contagem máxima de passageiros igual a 2"
      ]
    },
    {
      "cell_type": "code",
      "metadata": {
        "id": "RyVfSK_5D6gm",
        "colab_type": "code",
        "colab": {
          "base_uri": "https://localhost:8080/",
          "height": 34
        },
        "outputId": "7b95db0b-5a63-4c53-d74b-cb1d2c185b9c"
      },
      "source": [
        "trip_passengers_m2[\"trip_distance\"].mean()\n",
        "#3.04935"
      ],
      "execution_count": 15,
      "outputs": [
        {
          "output_type": "execute_result",
          "data": {
            "text/plain": [
              "3.0493525601412563"
            ]
          },
          "metadata": {
            "tags": []
          },
          "execution_count": 15
        }
      ]
    },
    {
      "cell_type": "markdown",
      "metadata": {
        "id": "1mxOeTokGVmg",
        "colab_type": "text"
      },
      "source": [
        "Transformar coluna \"tpep_pickup_datetime\" para date\n"
      ]
    },
    {
      "cell_type": "code",
      "metadata": {
        "id": "fmV1GVqvGaN6",
        "colab_type": "code",
        "colab": {
          "base_uri": "https://localhost:8080/",
          "height": 439
        },
        "outputId": "1338433d-b2cf-43a3-cb6f-ab6a2e2df197"
      },
      "source": [
        "from datetime import datetime\n",
        "from datetime import date\n",
        "\n",
        "trip2[\"tpep_pickup_datetime\"] = pd.to_datetime(trip2[\"tpep_pickup_datetime\"])\n",
        "\n"
      ],
      "execution_count": 109,
      "outputs": [
        {
          "output_type": "execute_result",
          "data": {
            "text/html": [
              "<div>\n",
              "<style scoped>\n",
              "    .dataframe tbody tr th:only-of-type {\n",
              "        vertical-align: middle;\n",
              "    }\n",
              "\n",
              "    .dataframe tbody tr th {\n",
              "        vertical-align: top;\n",
              "    }\n",
              "\n",
              "    .dataframe thead th {\n",
              "        text-align: right;\n",
              "    }\n",
              "</style>\n",
              "<table border=\"1\" class=\"dataframe\">\n",
              "  <thead>\n",
              "    <tr style=\"text-align: right;\">\n",
              "      <th></th>\n",
              "      <th>level_0</th>\n",
              "      <th>index</th>\n",
              "      <th>VendorID</th>\n",
              "      <th>tpep_pickup_datetime</th>\n",
              "      <th>tpep_dropoff_datetime</th>\n",
              "      <th>passenger_count</th>\n",
              "      <th>trip_distance</th>\n",
              "      <th>RatecodeID</th>\n",
              "      <th>store_and_fwd_flag</th>\n",
              "      <th>PULocationID</th>\n",
              "      <th>DOLocationID</th>\n",
              "      <th>payment_type</th>\n",
              "      <th>fare_amount</th>\n",
              "      <th>extra</th>\n",
              "      <th>mta_tax</th>\n",
              "      <th>tip_amount</th>\n",
              "      <th>tolls_amount</th>\n",
              "      <th>improvement_surcharge</th>\n",
              "      <th>total_amount</th>\n",
              "      <th>weekday</th>\n",
              "    </tr>\n",
              "  </thead>\n",
              "  <tbody>\n",
              "    <tr>\n",
              "      <th>0</th>\n",
              "      <td>0</td>\n",
              "      <td>0</td>\n",
              "      <td>2</td>\n",
              "      <td>2018-06-13 10:21:21</td>\n",
              "      <td>06/13/2018 10:39:36 AM</td>\n",
              "      <td>1</td>\n",
              "      <td>2.20</td>\n",
              "      <td>1</td>\n",
              "      <td>N</td>\n",
              "      <td>237</td>\n",
              "      <td>230</td>\n",
              "      <td>1</td>\n",
              "      <td>13.0</td>\n",
              "      <td>0.0</td>\n",
              "      <td>0.5</td>\n",
              "      <td>1.50</td>\n",
              "      <td>0.0</td>\n",
              "      <td>0.3</td>\n",
              "      <td>15.30</td>\n",
              "      <td>teste</td>\n",
              "    </tr>\n",
              "    <tr>\n",
              "      <th>1</th>\n",
              "      <td>1</td>\n",
              "      <td>1</td>\n",
              "      <td>2</td>\n",
              "      <td>2018-06-13 10:42:40</td>\n",
              "      <td>06/13/2018 10:47:18 AM</td>\n",
              "      <td>1</td>\n",
              "      <td>0.49</td>\n",
              "      <td>1</td>\n",
              "      <td>N</td>\n",
              "      <td>100</td>\n",
              "      <td>230</td>\n",
              "      <td>2</td>\n",
              "      <td>5.0</td>\n",
              "      <td>0.0</td>\n",
              "      <td>0.5</td>\n",
              "      <td>0.00</td>\n",
              "      <td>0.0</td>\n",
              "      <td>0.3</td>\n",
              "      <td>5.80</td>\n",
              "      <td>teste</td>\n",
              "    </tr>\n",
              "    <tr>\n",
              "      <th>2</th>\n",
              "      <td>2</td>\n",
              "      <td>2</td>\n",
              "      <td>2</td>\n",
              "      <td>2018-06-13 10:54:04</td>\n",
              "      <td>06/13/2018 11:04:37 AM</td>\n",
              "      <td>1</td>\n",
              "      <td>1.48</td>\n",
              "      <td>1</td>\n",
              "      <td>N</td>\n",
              "      <td>48</td>\n",
              "      <td>162</td>\n",
              "      <td>1</td>\n",
              "      <td>8.5</td>\n",
              "      <td>0.0</td>\n",
              "      <td>0.5</td>\n",
              "      <td>1.50</td>\n",
              "      <td>0.0</td>\n",
              "      <td>0.3</td>\n",
              "      <td>10.80</td>\n",
              "      <td>teste</td>\n",
              "    </tr>\n",
              "    <tr>\n",
              "      <th>3</th>\n",
              "      <td>3</td>\n",
              "      <td>3</td>\n",
              "      <td>2</td>\n",
              "      <td>2018-06-13 10:02:47</td>\n",
              "      <td>06/13/2018 10:27:58 AM</td>\n",
              "      <td>1</td>\n",
              "      <td>2.29</td>\n",
              "      <td>1</td>\n",
              "      <td>N</td>\n",
              "      <td>164</td>\n",
              "      <td>237</td>\n",
              "      <td>1</td>\n",
              "      <td>15.5</td>\n",
              "      <td>0.0</td>\n",
              "      <td>0.5</td>\n",
              "      <td>4.08</td>\n",
              "      <td>0.0</td>\n",
              "      <td>0.3</td>\n",
              "      <td>20.38</td>\n",
              "      <td>teste</td>\n",
              "    </tr>\n",
              "    <tr>\n",
              "      <th>4</th>\n",
              "      <td>4</td>\n",
              "      <td>4</td>\n",
              "      <td>2</td>\n",
              "      <td>2018-06-13 10:29:11</td>\n",
              "      <td>06/13/2018 10:45:29 AM</td>\n",
              "      <td>1</td>\n",
              "      <td>0.94</td>\n",
              "      <td>1</td>\n",
              "      <td>N</td>\n",
              "      <td>43</td>\n",
              "      <td>161</td>\n",
              "      <td>2</td>\n",
              "      <td>11.0</td>\n",
              "      <td>0.0</td>\n",
              "      <td>0.5</td>\n",
              "      <td>0.00</td>\n",
              "      <td>0.0</td>\n",
              "      <td>0.3</td>\n",
              "      <td>11.80</td>\n",
              "      <td>teste</td>\n",
              "    </tr>\n",
              "    <tr>\n",
              "      <th>...</th>\n",
              "      <td>...</td>\n",
              "      <td>...</td>\n",
              "      <td>...</td>\n",
              "      <td>...</td>\n",
              "      <td>...</td>\n",
              "      <td>...</td>\n",
              "      <td>...</td>\n",
              "      <td>...</td>\n",
              "      <td>...</td>\n",
              "      <td>...</td>\n",
              "      <td>...</td>\n",
              "      <td>...</td>\n",
              "      <td>...</td>\n",
              "      <td>...</td>\n",
              "      <td>...</td>\n",
              "      <td>...</td>\n",
              "      <td>...</td>\n",
              "      <td>...</td>\n",
              "      <td>...</td>\n",
              "      <td>...</td>\n",
              "    </tr>\n",
              "    <tr>\n",
              "      <th>1515289</th>\n",
              "      <td>1515289</td>\n",
              "      <td>1515289</td>\n",
              "      <td>2</td>\n",
              "      <td>2018-06-18 16:05:44</td>\n",
              "      <td>06/18/2018 04:16:29 PM</td>\n",
              "      <td>1</td>\n",
              "      <td>1.89</td>\n",
              "      <td>1</td>\n",
              "      <td>N</td>\n",
              "      <td>142</td>\n",
              "      <td>263</td>\n",
              "      <td>1</td>\n",
              "      <td>9.0</td>\n",
              "      <td>1.0</td>\n",
              "      <td>0.5</td>\n",
              "      <td>2.16</td>\n",
              "      <td>0.0</td>\n",
              "      <td>0.3</td>\n",
              "      <td>12.96</td>\n",
              "      <td>teste</td>\n",
              "    </tr>\n",
              "    <tr>\n",
              "      <th>1515290</th>\n",
              "      <td>1515290</td>\n",
              "      <td>1515290</td>\n",
              "      <td>2</td>\n",
              "      <td>2018-06-18 16:18:03</td>\n",
              "      <td>06/18/2018 04:24:42 PM</td>\n",
              "      <td>1</td>\n",
              "      <td>1.02</td>\n",
              "      <td>1</td>\n",
              "      <td>N</td>\n",
              "      <td>263</td>\n",
              "      <td>237</td>\n",
              "      <td>1</td>\n",
              "      <td>6.5</td>\n",
              "      <td>1.0</td>\n",
              "      <td>0.5</td>\n",
              "      <td>1.66</td>\n",
              "      <td>0.0</td>\n",
              "      <td>0.3</td>\n",
              "      <td>9.96</td>\n",
              "      <td>teste</td>\n",
              "    </tr>\n",
              "    <tr>\n",
              "      <th>1515291</th>\n",
              "      <td>1515291</td>\n",
              "      <td>1515291</td>\n",
              "      <td>2</td>\n",
              "      <td>2018-06-18 16:17:33</td>\n",
              "      <td>06/18/2018 04:27:48 PM</td>\n",
              "      <td>6</td>\n",
              "      <td>0.59</td>\n",
              "      <td>1</td>\n",
              "      <td>N</td>\n",
              "      <td>48</td>\n",
              "      <td>48</td>\n",
              "      <td>1</td>\n",
              "      <td>7.5</td>\n",
              "      <td>1.0</td>\n",
              "      <td>0.5</td>\n",
              "      <td>1.86</td>\n",
              "      <td>0.0</td>\n",
              "      <td>0.3</td>\n",
              "      <td>11.16</td>\n",
              "      <td>teste</td>\n",
              "    </tr>\n",
              "    <tr>\n",
              "      <th>1515292</th>\n",
              "      <td>1515292</td>\n",
              "      <td>1515292</td>\n",
              "      <td>2</td>\n",
              "      <td>2018-06-18 16:30:30</td>\n",
              "      <td>06/18/2018 04:32:45 PM</td>\n",
              "      <td>6</td>\n",
              "      <td>0.15</td>\n",
              "      <td>1</td>\n",
              "      <td>N</td>\n",
              "      <td>48</td>\n",
              "      <td>230</td>\n",
              "      <td>2</td>\n",
              "      <td>3.5</td>\n",
              "      <td>1.0</td>\n",
              "      <td>0.5</td>\n",
              "      <td>0.00</td>\n",
              "      <td>0.0</td>\n",
              "      <td>0.3</td>\n",
              "      <td>5.30</td>\n",
              "      <td>teste</td>\n",
              "    </tr>\n",
              "    <tr>\n",
              "      <th>1515293</th>\n",
              "      <td>1515293</td>\n",
              "      <td>1515293</td>\n",
              "      <td>2</td>\n",
              "      <td>2018-06-18 16:37:22</td>\n",
              "      <td>06/18/2018 04:42:37 PM</td>\n",
              "      <td>6</td>\n",
              "      <td>0.96</td>\n",
              "      <td>1</td>\n",
              "      <td>N</td>\n",
              "      <td>142</td>\n",
              "      <td>239</td>\n",
              "      <td>2</td>\n",
              "      <td>6.0</td>\n",
              "      <td>1.0</td>\n",
              "      <td>0.5</td>\n",
              "      <td>0.00</td>\n",
              "      <td>0.0</td>\n",
              "      <td>0.3</td>\n",
              "      <td>7.80</td>\n",
              "      <td>teste</td>\n",
              "    </tr>\n",
              "  </tbody>\n",
              "</table>\n",
              "<p>1515294 rows × 20 columns</p>\n",
              "</div>"
            ],
            "text/plain": [
              "         level_0    index  ...  total_amount weekday\n",
              "0              0        0  ...         15.30   teste\n",
              "1              1        1  ...          5.80   teste\n",
              "2              2        2  ...         10.80   teste\n",
              "3              3        3  ...         20.38   teste\n",
              "4              4        4  ...         11.80   teste\n",
              "...          ...      ...  ...           ...     ...\n",
              "1515289  1515289  1515289  ...         12.96   teste\n",
              "1515290  1515290  1515290  ...          9.96   teste\n",
              "1515291  1515291  1515291  ...         11.16   teste\n",
              "1515292  1515292  1515292  ...          5.30   teste\n",
              "1515293  1515293  1515293  ...          7.80   teste\n",
              "\n",
              "[1515294 rows x 20 columns]"
            ]
          },
          "metadata": {
            "tags": []
          },
          "execution_count": 109
        }
      ]
    },
    {
      "cell_type": "markdown",
      "metadata": {
        "id": "5d-uGi3GX0sx",
        "colab_type": "text"
      },
      "source": [
        "Criar uma nova coluna com os dias da semana utilizando a coluna formatada para data"
      ]
    },
    {
      "cell_type": "code",
      "metadata": {
        "id": "mbgCqMNKX5UW",
        "colab_type": "code",
        "colab": {
          "base_uri": "https://localhost:8080/",
          "height": 34
        },
        "outputId": "606b5c61-5923-4fad-920a-a992906202dc"
      },
      "source": [
        "trip2['weekend'] = trip2['tpep_pickup_datetime'].dt.dayofweek\n",
        "\n",
        "trip_fds = trip2[trip2['weekend'] >=5]\n",
        "\n",
        "trip_fds[\"trip_distance\"].mean()\n",
        "#3.1507"
      ],
      "execution_count": 113,
      "outputs": [
        {
          "output_type": "execute_result",
          "data": {
            "text/plain": [
              "3.15072268336328"
            ]
          },
          "metadata": {
            "tags": []
          },
          "execution_count": 113
        }
      ]
    },
    {
      "cell_type": "code",
      "metadata": {
        "id": "54Lp4-eVM0X0",
        "colab_type": "code",
        "colab": {}
      },
      "source": [
        ""
      ],
      "execution_count": 85,
      "outputs": []
    }
  ]
}